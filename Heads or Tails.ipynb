{
 "cells": [
  {
   "cell_type": "code",
   "execution_count": 13,
   "metadata": {},
   "outputs": [
    {
     "name": "stdout",
     "output_type": "stream",
     "text": [
      "0.8516255210410306\n",
      "The flip landed on Heads!\n"
     ]
    }
   ],
   "source": [
    "# Heads or tails coin flip\n",
    "\n",
    "import random\n",
    "\n",
    "x = random.uniform(0,1)\n",
    "\n",
    "print(x)\n",
    "\n",
    "if 0 <= x <= 0.5:\n",
    "    print(\"The flip landed on Tails!\")\n",
    "else:\n",
    "    print(\"The flip landed on Heads.\")"
   ]
  },
  {
   "cell_type": "code",
   "execution_count": 15,
   "metadata": {},
   "outputs": [
    {
     "name": "stdin",
     "output_type": "stream",
     "text": [
      "Enter a number:  11\n"
     ]
    },
    {
     "name": "stdout",
     "output_type": "stream",
     "text": [
      "11\n"
     ]
    }
   ],
   "source": [
    "val = input(\"Enter a number: \")\n",
    "\n",
    "print(val)"
   ]
  },
  {
   "cell_type": "code",
   "execution_count": null,
   "metadata": {},
   "outputs": [],
   "source": [
    "# Heads or tails coin flip\n",
    "\n",
    "import random\n",
    "\n",
    "val = input(\"Enter a number: \")\n",
    "\n",
    "print(val)\n",
    "\n",
    "x = random.uniform(0,1)\n",
    "\n",
    "print(x)\n",
    "\n",
    "if 0 <= x <= 1/2:\n",
    "    print(\"The flip landed on Tails!\")\n",
    "else:\n",
    "    print(\"The flip landed on Heads!\")"
   ]
  },
  {
   "cell_type": "code",
   "execution_count": null,
   "metadata": {},
   "outputs": [],
   "source": []
  }
 ],
 "metadata": {
  "kernelspec": {
   "display_name": "Python 3",
   "language": "python",
   "name": "python3"
  },
  "language_info": {
   "codemirror_mode": {
    "name": "ipython",
    "version": 3
   },
   "file_extension": ".py",
   "mimetype": "text/x-python",
   "name": "python",
   "nbconvert_exporter": "python",
   "pygments_lexer": "ipython3",
   "version": "3.8.5"
  }
 },
 "nbformat": 4,
 "nbformat_minor": 4
}
